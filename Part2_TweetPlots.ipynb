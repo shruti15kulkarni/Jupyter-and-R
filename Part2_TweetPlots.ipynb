{
 "cells": [
  {
   "cell_type": "markdown",
   "metadata": {},
   "source": [
    "Loading the requires packages"
   ]
  },
  {
   "cell_type": "code",
   "execution_count": null,
   "metadata": {
    "collapsed": true
   },
   "outputs": [],
   "source": [
    "library(twitteR)\n",
    "library(ggplot2)\n",
    "library(\"ggmap\")\n",
    "library(\"maptools\")\n",
    "library(maps)"
   ]
  },
  {
   "cell_type": "markdown",
   "metadata": {},
   "source": [
    "Setting up the authentication and collecting tweets for a particular hashtag."
   ]
  },
  {
   "cell_type": "code",
   "execution_count": null,
   "metadata": {
    "collapsed": true
   },
   "outputs": [],
   "source": [
    "setup_twitter_oauth(\"\",\"\",\"\",\"\")\n",
    "hashtag = \"#grammys\"\n",
    "tweets <- searchTwitter(hashtag, n= 2500, lang =\"en\")"
   ]
  },
  {
   "cell_type": "markdown",
   "metadata": {},
   "source": [
    "Converting the recieved tweets into a dataframe and looking up user information using screen names. "
   ]
  },
  {
   "cell_type": "code",
   "execution_count": null,
   "metadata": {
    "collapsed": true
   },
   "outputs": [],
   "source": [
    "tweet_data <- twListToDF(tweets)\n",
    "user_info <- lookupUsers(tweet_data$screenName)\n"
   ]
  },
  {
   "cell_type": "markdown",
   "metadata": {},
   "source": [
    "After converting the user info into a dataframe, fill the empty locations with NA and remove them."
   ]
  },
  {
   "cell_type": "code",
   "execution_count": null,
   "metadata": {
    "collapsed": true
   },
   "outputs": [],
   "source": [
    "userDF <- twListToDF(user_info)\n",
    "is.na(userDF$location) <- userDF$location == \"\" \n",
    "user_loc <- subset(userDF, !(is.na(userDF$location)),select=location) "
   ]
  },
  {
   "cell_type": "markdown",
   "metadata": {},
   "source": [
    "Find the geocode of these locations and remove the NA's from the resultant."
   ]
  },
  {
   "cell_type": "code",
   "execution_count": null,
   "metadata": {
    "collapsed": true
   },
   "outputs": [],
   "source": [
    "locations <- geocode(user_loc$location)\n",
    "locations <- subset(locations, !(is.na(locations$lon)),)\n"
   ]
  },
  {
   "cell_type": "markdown",
   "metadata": {},
   "source": [
    "Write the recieved co-ordinates to a file and set append = TRUE for multiple iterations"
   ]
  },
  {
   "cell_type": "code",
   "execution_count": null,
   "metadata": {
    "collapsed": true
   },
   "outputs": [],
   "source": [
    "write.table(locations,\"lat_lon.csv\",append=TRUE, col.names=FALSE)"
   ]
  },
  {
   "cell_type": "markdown",
   "metadata": {},
   "source": [
    "Read the csv file back and convert it into a dataframe with proper column names for further processing"
   ]
  },
  {
   "cell_type": "code",
   "execution_count": 116,
   "metadata": {
    "collapsed": true
   },
   "outputs": [],
   "source": [
    "loc <-read.table(\"lat_lon.csv\")\n",
    "lat <- loc$V2\n",
    "lon <- loc$V3\n",
    "loc<- data.frame(lat,lon)"
   ]
  },
  {
   "cell_type": "markdown",
   "metadata": {},
   "source": [
    "Finding the state of each point using spatial data.[1]\n"
   ]
  },
  {
   "cell_type": "markdown",
   "metadata": {},
   "source": [
    "Using USA states shapefile to determine the state of each co-ordinate point. This can be done using the readShapePoly() function which is a part of the maptools package. CRS(Co-ordinate Reference System) defines where the spatial objects are located on the earths surface. This is given as an input to proj4."
   ]
  },
  {
   "cell_type": "code",
   "execution_count": 118,
   "metadata": {
    "collapsed": false
   },
   "outputs": [
    {
     "name": "stdout",
     "output_type": "stream",
     "text": [
      "Shapefile type: Polygon, (5), # of Shapes: 51\n"
     ]
    }
   ],
   "source": [
    "variableA=CRS(\"+init=epsg:4326 +proj=longlat +ellps=WGS84 +datum=WGS84 +no_defs +towgs84=0,0,0\")\n",
    "states=readShapePoly(\"US_states/states.shp\",proj4string=variableA,verbose=TRUE)"
   ]
  },
  {
   "cell_type": "markdown",
   "metadata": {},
   "source": [
    "Coverts the location co-ordinates into spatial points. This is done so that the over() function can be sed to determine the state in which the co-ordinate lies."
   ]
  },
  {
   "cell_type": "code",
   "execution_count": 119,
   "metadata": {
    "collapsed": true
   },
   "outputs": [],
   "source": [
    "points_sppol <- SpatialPoints(loc, proj4string=variableA)"
   ]
  },
  {
   "cell_type": "markdown",
   "metadata": {},
   "source": [
    "Using the over() function to determine in which state polygon each of the points lie. This returns a points_in data frame which gives the state_name for each corresponding point\n"
   ]
  },
  {
   "cell_type": "code",
   "execution_count": 120,
   "metadata": {
    "collapsed": true
   },
   "outputs": [],
   "source": [
    "points_in <- over(points_sppol, states)"
   ]
  },
  {
   "cell_type": "markdown",
   "metadata": {},
   "source": [
    "Removing the columns in state_name with NA entries "
   ]
  },
  {
   "cell_type": "code",
   "execution_count": 121,
   "metadata": {
    "collapsed": true
   },
   "outputs": [],
   "source": [
    "location_US <- na.omit(points_in$STATE_NAME)"
   ]
  },
  {
   "cell_type": "markdown",
   "metadata": {},
   "source": [
    "Converting the locations obtained into a table, which also gives the frequency of each state"
   ]
  },
  {
   "cell_type": "code",
   "execution_count": 123,
   "metadata": {
    "collapsed": false
   },
   "outputs": [],
   "source": [
    "table <- table(location_US)\n",
    "table <- as.data.frame(table)"
   ]
  },
  {
   "cell_type": "markdown",
   "metadata": {},
   "source": [
    "Get the geocodes of these returned states to plot them."
   ]
  },
  {
   "cell_type": "code",
   "execution_count": null,
   "metadata": {
    "collapsed": true
   },
   "outputs": [],
   "source": [
    "geocodes <- geocode(as.character(table$location_US))"
   ]
  },
  {
   "cell_type": "markdown",
   "metadata": {},
   "source": [
    "Plot these points on the map using frequency to plot the size of the blob."
   ]
  },
  {
   "cell_type": "code",
   "execution_count": null,
   "metadata": {
    "collapsed": true
   },
   "outputs": [],
   "source": [
    "USA_loc <- data.frame(table[,1:2],geocodes)\n",
    "map<-get_map(location=\"united states of america\",zoom=4)\n",
    "ggmap(map)+geom_point(data=USA_loc,aes(x=lon, y=lat, size=Freq),color=\"red\")"
   ]
  },
  {
   "cell_type": "markdown",
   "metadata": {},
   "source": [
    "[1] https://www.r-bloggers.com/r-and-gis-working-with-shapefiles/"
   ]
  }
 ],
 "metadata": {
  "kernelspec": {
   "display_name": "R",
   "language": "R",
   "name": "ir"
  },
  "language_info": {
   "codemirror_mode": "r",
   "file_extension": ".r",
   "mimetype": "text/x-r-source",
   "name": "R",
   "pygments_lexer": "r",
   "version": "3.3.2"
  }
 },
 "nbformat": 4,
 "nbformat_minor": 2
}
