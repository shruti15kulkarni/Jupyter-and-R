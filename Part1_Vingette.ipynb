{
 "cells": [
  {
   "cell_type": "markdown",
   "metadata": {},
   "source": [
    "Loading the twitter library and setting up authentication to extract tweets.\n",
    "Takes API key, API secret, Consumer key and Consumer secret as arguments."
   ]
  },
  {
   "cell_type": "code",
   "execution_count": null,
   "metadata": {
    "collapsed": true
   },
   "outputs": [],
   "source": [
    "library(twitteR)\n",
    "setup_twitter_oauth(\"\",\"\",\"\",\"\")"
   ]
  },
  {
   "cell_type": "markdown",
   "metadata": {},
   "source": [
    "Collecting tweets and using the head() function to return only a handful of tweets."
   ]
  },
  {
   "cell_type": "code",
   "execution_count": 23,
   "metadata": {
    "collapsed": false,
    "scrolled": true
   },
   "outputs": [
    {
     "data": {
      "text/plain": [
       "[[1]]\n",
       "[1] \"dallas_bigdata: RT @KirkDBorne: One-page R Survival Guides for #DataScientists: https://t.co/ASfPzMkMOC #abdsc #Rstats #DataScience #BigData #MachineLearni…\"\n",
       "\n",
       "[[2]]\n",
       "[1] \"dallas_bigdata: RT @KirkDBorne: How to Install #Microsoft R Server for Windows: https://t.co/1VPRKYFL9r #Rstats #BigData #MachineLearning #DataScience http…\"\n",
       "\n",
       "[[3]]\n",
       "[1] \"dasaptaerwin: @BiswapriyaMisra thanks. Need to dig deeper into this #rstats packages. PS: if I have time :). Have a pleasant Sunday.\"\n",
       "\n",
       "[[4]]\n",
       "[1] \"shoetree: RT @hadleywickham: #rstats  for data science will be shipping Jan 5 https://t.co/BMFYacy7x5 ! (Or read for free at https://t.co/48IKOWCtSc)\"\n",
       "\n",
       "[[5]]\n",
       "[1] \"ErikM727: RT @Rbloggers: Hello R world post https://t.co/QhDRHhHJ20 #rstats #DataScience\"\n",
       "\n",
       "[[6]]\n",
       "[1] \"HoracioCastello: RT @KirkDBorne: How to Install #Microsoft R Server for Windows: https://t.co/1VPRKYFL9r #Rstats #BigData #MachineLearning #DataScience http…\"\n"
      ]
     },
     "metadata": {},
     "output_type": "display_data"
    },
    {
     "data": {
      "text/plain": [
       "[[1]]\n",
       "[1] \"dasaptaerwin: @BiswapriyaMisra thanks. Need to dig deeper into this #rstats packages. PS: if I have time :). Have a pleasant Sunday.\"\n",
       "\n",
       "[[2]]\n",
       "[1] \"jonmcalder: It's been an unforgettable 3 days of collaborative investment into the #rstats community for #satRdayCapeTown - so many new friends made :-)\"\n",
       "\n",
       "[[3]]\n",
       "[1] \"SteffLocke: Use your .Rprofile to give you important notifications https://t.co/aDqKSXXfPr #bestpractices #hibpwned #rstats\"\n",
       "\n",
       "[[4]]\n",
       "[1] \"pjs_228: When you're watching rstudio::conf talks and think about that most of your colleagues still do gui / non tidy data analysis :/ #rstats\"\n",
       "\n",
       "[[5]]\n",
       "[1] \"PWGTennant: Remembered why I stopped trying to learn #Rstats. @rstudio freezes within a minute of opening. Tried reinstalling etc. Lots of time wasted!\"\n",
       "\n",
       "[[6]]\n",
       "[1] \"Jemus42: TIL: If you use @rstudio and want a quiet startup, add to your ~/.profile: \\nexport RSTUDIO_WHICH_R='/usr/local/bin/R --quiet'\\n#rstats\"\n"
      ]
     },
     "metadata": {},
     "output_type": "display_data"
    }
   ],
   "source": [
    "tweets_eg <- searchTwitter('#rstats', n=50)\n",
    "head(tweets_eg)\n",
    "head(strip_retweets(tweets_eg, strip_manual=TRUE, strip_mt=TRUE))"
   ]
  },
  {
   "cell_type": "markdown",
   "metadata": {},
   "source": [
    "User information using appropriate functions"
   ]
  },
  {
   "cell_type": "code",
   "execution_count": 37,
   "metadata": {
    "collapsed": true
   },
   "outputs": [
    {
     "data": {
      "text/html": [
       "'Hopeful analyst. Wannabe data scientist. Hobbyist musician for @TheRCB. Fascinated by behavioural analytics, fallacies of reasoning &amp; decision support.'"
      ],
      "text/latex": [
       "'Hopeful analyst. Wannabe data scientist. Hobbyist musician for @TheRCB. Fascinated by behavioural analytics, fallacies of reasoning \\& decision support.'"
      ],
      "text/markdown": [
       "'Hopeful analyst. Wannabe data scientist. Hobbyist musician for @TheRCB. Fascinated by behavioural analytics, fallacies of reasoning &amp; decision support.'"
      ],
      "text/plain": [
       "[1] \"Hopeful analyst. Wannabe data scientist. Hobbyist musician for @TheRCB. Fascinated by behavioural analytics, fallacies of reasoning & decision support.\""
      ]
     },
     "metadata": {},
     "output_type": "display_data"
    },
    {
     "data": {
      "text/html": [
       "1472"
      ],
      "text/latex": [
       "1472"
      ],
      "text/markdown": [
       "1472"
      ],
      "text/plain": [
       "[1] 1472"
      ]
     },
     "metadata": {},
     "output_type": "display_data"
    },
    {
     "data": {
      "text/plain": [
       "$`3025076515`\n",
       "[1] \"TheZaRob\"\n",
       "\n",
       "$`326067924`\n",
       "[1] \"DavidFriskin\"\n",
       "\n",
       "$`51380018`\n",
       "[1] \"niklasvm\"\n",
       "\n",
       "$`401693661`\n",
       "[1] \"tarynleemorris\"\n",
       "\n",
       "$`222375906`\n",
       "[1] \"TheSQLGirl\"\n"
      ]
     },
     "metadata": {},
     "output_type": "display_data"
    },
    {
     "data": {
      "text/plain": [
       "[[1]]\n",
       "[1] \"KirstyGarson: A day well spent... #satRdayCapeTown https://t.co/MyWkQdWYIi\"\n",
       "\n",
       "[[2]]\n",
       "[1] \"acnotesblog: phenomenal R workshops + satRday over last 3 days with the supremely talented @JennyBryan @SteffLocke &amp; @juliasilge… https://t.co/98jdrlvJMV\"\n",
       "\n",
       "[[3]]\n",
       "[1] \"MikeJohnsonZA: Chilling with @SteffLocke and @luis_de_sousa  after a very successful #satRdayCapeTown .\"\n",
       "\n",
       "[[4]]\n",
       "[1] \"jedelange: @JennyBryan, I was really impressed by this one, clear demonstration on Data Science adding value in financial serv… https://t.co/859KeFLvas\"\n",
       "\n",
       "[[5]]\n",
       "[1] \"boraton: https://t.co/cVcyEJVhfO #satRdayCapeTown\"\n"
      ]
     },
     "metadata": {},
     "output_type": "display_data"
    }
   ],
   "source": [
    "jonmcalder <- getUser('jonmcalder')\n",
    "crantastic$getDescription()\n",
    "jonmcalder$getFollowersCount()\n",
    "jonmcalder$getFriends(n=5)\n",
    "jonmcalder$getFavorites(n=5)"
   ]
  },
  {
   "cell_type": "markdown",
   "metadata": {},
   "source": [
    "Converts tweets returned into a data frame"
   ]
  },
  {
   "cell_type": "code",
   "execution_count": 28,
   "metadata": {
    "collapsed": true
   },
   "outputs": [
    {
     "data": {
      "text/html": [
       "<table>\n",
       "<thead><tr><th scope=col>text</th><th scope=col>favorited</th><th scope=col>favoriteCount</th><th scope=col>replyToSN</th><th scope=col>created</th><th scope=col>truncated</th><th scope=col>replyToSID</th><th scope=col>id</th><th scope=col>replyToUID</th><th scope=col>statusSource</th><th scope=col>screenName</th><th scope=col>retweetCount</th><th scope=col>isRetweet</th><th scope=col>retweeted</th><th scope=col>longitude</th><th scope=col>latitude</th></tr></thead>\n",
       "<tbody>\n",
       "\t<tr><td>RT @KirkDBorne: One-page R Survival Guides for #DataScientists: https://t.co/ASfPzMkMOC #abdsc #Rstats #DataScience #BigData #MachineLearni…</td><td>FALSE                                                                                                                                       </td><td>0                                                                                                                                           </td><td><span style=white-space:pre-wrap>NA             </span>                                                                                     </td><td>2017-02-18 23:29:03                                                                                                                         </td><td>FALSE                                                                                                                                       </td><td>NA                                                                                                                                          </td><td>833096018652696578                                                                                                                          </td><td><span style=white-space:pre-wrap>NA                </span>                                                                                  </td><td><span style=white-space:pre-wrap>&lt;a href=\"http://twitter.com\" rel=\"nofollow\"&gt;Twitter Web Client&lt;/a&gt;                </span>      </td><td>dallas_bigdata                                                                                                                              </td><td>234                                                                                                                                         </td><td> TRUE                                                                                                                                       </td><td>FALSE                                                                                                                                       </td><td>NA                                                                                                                                          </td><td>NA                                                                                                                                          </td></tr>\n",
       "\t<tr><td>RT @KirkDBorne: How to Install #Microsoft R Server for Windows: https://t.co/1VPRKYFL9r #Rstats #BigData #MachineLearning #DataScience http…</td><td>FALSE                                                                                                                                       </td><td>0                                                                                                                                           </td><td><span style=white-space:pre-wrap>NA             </span>                                                                                     </td><td>2017-02-18 23:28:47                                                                                                                         </td><td>FALSE                                                                                                                                       </td><td>NA                                                                                                                                          </td><td>833095948700106753                                                                                                                          </td><td><span style=white-space:pre-wrap>NA                </span>                                                                                  </td><td><span style=white-space:pre-wrap>&lt;a href=\"http://twitter.com\" rel=\"nofollow\"&gt;Twitter Web Client&lt;/a&gt;                </span>      </td><td>dallas_bigdata                                                                                                                              </td><td> 14                                                                                                                                         </td><td> TRUE                                                                                                                                       </td><td>FALSE                                                                                                                                       </td><td>NA                                                                                                                                          </td><td>NA                                                                                                                                          </td></tr>\n",
       "\t<tr><td><span style=white-space:pre-wrap>@BiswapriyaMisra thanks. Need to dig deeper into this #rstats packages. PS: if I have time :). Have a pleasant Sunday.                      </span></td><td>FALSE                                                                                                                                                                               </td><td>0                                                                                                                                                                                   </td><td>BiswapriyaMisra                                                                                                                                                                     </td><td>2017-02-18 23:18:47                                                                                                                                                                 </td><td>FALSE                                                                                                                                                                               </td><td>NA                                                                                                                                                                                  </td><td>833093432444805120                                                                                                                                                                  </td><td>751885664283602944                                                                                                                                                                  </td><td>&lt;a href=\"http://twitter.com/download/iphone\" rel=\"nofollow\"&gt;Twitter for iPhone&lt;/a&gt;                                                                                      </td><td><span style=white-space:pre-wrap>dasaptaerwin   </span>                                                                                                                             </td><td><span style=white-space:pre-wrap>  0</span>                                                                                                                                         </td><td>FALSE                                                                                                                                                                               </td><td>FALSE                                                                                                                                                                               </td><td>NA                                                                                                                                                                                  </td><td>NA                                                                                                                                                                                  </td></tr>\n",
       "\t<tr><td><span style=white-space:pre-wrap>RT @hadleywickham: #rstats  for data science will be shipping Jan 5 https://t.co/BMFYacy7x5 ! (Or read for free at https://t.co/48IKOWCtSc) </span></td><td>FALSE                                                                                                                                                                               </td><td>0                                                                                                                                                                                   </td><td><span style=white-space:pre-wrap>NA             </span>                                                                                                                             </td><td>2017-02-18 23:11:19                                                                                                                                                                 </td><td>FALSE                                                                                                                                                                               </td><td>NA                                                                                                                                                                                  </td><td>833091554172510208                                                                                                                                                                  </td><td><span style=white-space:pre-wrap>NA                </span>                                                                                                                          </td><td><span style=white-space:pre-wrap>&lt;a href=\"http://twitter.com\" rel=\"nofollow\"&gt;Twitter Web Client&lt;/a&gt;                </span>                                              </td><td><span style=white-space:pre-wrap>shoetree       </span>                                                                                                                             </td><td>330                                                                                                                                                                                 </td><td> TRUE                                                                                                                                                                               </td><td>FALSE                                                                                                                                                                               </td><td>NA                                                                                                                                                                                  </td><td>NA                                                                                                                                                                                  </td></tr>\n",
       "\t<tr><td><span style=white-space:pre-wrap>RT @Rbloggers: Hello R world post https://t.co/QhDRHhHJ20 #rstats #DataScience                                                              </span></td><td>FALSE                                                                                                                                                                               </td><td>0                                                                                                                                                                                   </td><td><span style=white-space:pre-wrap>NA             </span>                                                                                                                             </td><td>2017-02-18 23:11:18                                                                                                                                                                 </td><td>FALSE                                                                                                                                                                               </td><td>NA                                                                                                                                                                                  </td><td>833091549005303809                                                                                                                                                                  </td><td><span style=white-space:pre-wrap>NA                </span>                                                                                                                          </td><td>&lt;a href=\"http://twitter.com/download/iphone\" rel=\"nofollow\"&gt;Twitter for iPhone&lt;/a&gt;                                                                                      </td><td><span style=white-space:pre-wrap>ErikM727       </span>                                                                                                                             </td><td><span style=white-space:pre-wrap>  6</span>                                                                                                                                         </td><td> TRUE                                                                                                                                                                               </td><td>FALSE                                                                                                                                                                               </td><td>NA                                                                                                                                                                                  </td><td>NA                                                                                                                                                                                  </td></tr>\n",
       "\t<tr><td>RT @KirkDBorne: How to Install #Microsoft R Server for Windows: https://t.co/1VPRKYFL9r #Rstats #BigData #MachineLearning #DataScience http…</td><td>FALSE                                                                                                                                       </td><td>0                                                                                                                                           </td><td><span style=white-space:pre-wrap>NA             </span>                                                                                     </td><td>2017-02-18 23:09:51                                                                                                                         </td><td>FALSE                                                                                                                                       </td><td>NA                                                                                                                                          </td><td>833091184130191366                                                                                                                          </td><td><span style=white-space:pre-wrap>NA                </span>                                                                                  </td><td><span style=white-space:pre-wrap>&lt;a href=\"http://twitter.com\" rel=\"nofollow\"&gt;Twitter Web Client&lt;/a&gt;                </span>      </td><td>HoracioCastello                                                                                                                             </td><td> 14                                                                                                                                         </td><td> TRUE                                                                                                                                       </td><td>FALSE                                                                                                                                       </td><td>NA                                                                                                                                          </td><td>NA                                                                                                                                          </td></tr>\n",
       "</tbody>\n",
       "</table>\n"
      ],
      "text/latex": [
       "\\begin{tabular}{r|llllllllllllllll}\n",
       " text & favorited & favoriteCount & replyToSN & created & truncated & replyToSID & id & replyToUID & statusSource & screenName & retweetCount & isRetweet & retweeted & longitude & latitude\\\\\n",
       "\\hline\n",
       "\t RT @KirkDBorne: One-page R Survival Guides for \\#DataScientists: https://t.co/ASfPzMkMOC \\#abdsc \\#Rstats \\#DataScience \\#BigData \\#MachineLearni… & FALSE                                                                                                                                                    & 0                                                                                                                                                        & NA                                                                                                                                                       & 2017-02-18 23:29:03                                                                                                                                      & FALSE                                                                                                                                                    & NA                                                                                                                                                       & 833096018652696578                                                                                                                                       & NA                                                                                                                                                       & <a href=\"http://twitter.com\" rel=\"nofollow\">Twitter Web Client</a>                                                                                       & dallas\\_bigdata                                                                                                                                         & 234                                                                                                                                                      &  TRUE                                                                                                                                                    & FALSE                                                                                                                                                    & NA                                                                                                                                                       & NA                                                                                                                                                      \\\\\n",
       "\t RT @KirkDBorne: How to Install \\#Microsoft R Server for Windows: https://t.co/1VPRKYFL9r \\#Rstats \\#BigData \\#MachineLearning \\#DataScience http… & FALSE                                                                                                                                                  & 0                                                                                                                                                      & NA                                                                                                                                                     & 2017-02-18 23:28:47                                                                                                                                    & FALSE                                                                                                                                                  & NA                                                                                                                                                     & 833095948700106753                                                                                                                                     & NA                                                                                                                                                     & <a href=\"http://twitter.com\" rel=\"nofollow\">Twitter Web Client</a>                                                                                     & dallas\\_bigdata                                                                                                                                       &  14                                                                                                                                                    &  TRUE                                                                                                                                                  & FALSE                                                                                                                                                  & NA                                                                                                                                                     & NA                                                                                                                                                    \\\\\n",
       "\t @BiswapriyaMisra thanks. Need to dig deeper into this \\#rstats packages. PS: if I have time :). Have a pleasant Sunday.                       & FALSE                                                                                                                                          & 0                                                                                                                                              & BiswapriyaMisra                                                                                                                                & 2017-02-18 23:18:47                                                                                                                            & FALSE                                                                                                                                          & NA                                                                                                                                             & 833093432444805120                                                                                                                             & 751885664283602944                                                                                                                             & <a href=\"http://twitter.com/download/iphone\" rel=\"nofollow\">Twitter for iPhone</a>                                                             & dasaptaerwin                                                                                                                                   &   0                                                                                                                                            & FALSE                                                                                                                                          & FALSE                                                                                                                                          & NA                                                                                                                                             & NA                                                                                                                                            \\\\\n",
       "\t RT @hadleywickham: \\#rstats  for data science will be shipping Jan 5 https://t.co/BMFYacy7x5 ! (Or read for free at https://t.co/48IKOWCtSc)  & FALSE                                                                                                                                          & 0                                                                                                                                              & NA                                                                                                                                             & 2017-02-18 23:11:19                                                                                                                            & FALSE                                                                                                                                          & NA                                                                                                                                             & 833091554172510208                                                                                                                             & NA                                                                                                                                             & <a href=\"http://twitter.com\" rel=\"nofollow\">Twitter Web Client</a>                                                                             & shoetree                                                                                                                                       & 330                                                                                                                                            &  TRUE                                                                                                                                          & FALSE                                                                                                                                          & NA                                                                                                                                             & NA                                                                                                                                            \\\\\n",
       "\t RT @Rbloggers: Hello R world post https://t.co/QhDRHhHJ20 \\#rstats \\#DataScience                                                               & FALSE                                                                                                                                            & 0                                                                                                                                                & NA                                                                                                                                               & 2017-02-18 23:11:18                                                                                                                              & FALSE                                                                                                                                            & NA                                                                                                                                               & 833091549005303809                                                                                                                               & NA                                                                                                                                               & <a href=\"http://twitter.com/download/iphone\" rel=\"nofollow\">Twitter for iPhone</a>                                                               & ErikM727                                                                                                                                         &   6                                                                                                                                              &  TRUE                                                                                                                                            & FALSE                                                                                                                                            & NA                                                                                                                                               & NA                                                                                                                                              \\\\\n",
       "\t RT @KirkDBorne: How to Install \\#Microsoft R Server for Windows: https://t.co/1VPRKYFL9r \\#Rstats \\#BigData \\#MachineLearning \\#DataScience http… & FALSE                                                                                                                                                  & 0                                                                                                                                                      & NA                                                                                                                                                     & 2017-02-18 23:09:51                                                                                                                                    & FALSE                                                                                                                                                  & NA                                                                                                                                                     & 833091184130191366                                                                                                                                     & NA                                                                                                                                                     & <a href=\"http://twitter.com\" rel=\"nofollow\">Twitter Web Client</a>                                                                                     & HoracioCastello                                                                                                                                        &  14                                                                                                                                                    &  TRUE                                                                                                                                                  & FALSE                                                                                                                                                  & NA                                                                                                                                                     & NA                                                                                                                                                    \\\\\n",
       "\\end{tabular}\n"
      ],
      "text/markdown": [
       "\n",
       "text | favorited | favoriteCount | replyToSN | created | truncated | replyToSID | id | replyToUID | statusSource | screenName | retweetCount | isRetweet | retweeted | longitude | latitude | \n",
       "|---|---|---|---|---|---|\n",
       "| RT @KirkDBorne: One-page R Survival Guides for #DataScientists: https://t.co/ASfPzMkMOC #abdsc #Rstats #DataScience #BigData #MachineLearni… | FALSE                                                                                                                                        | 0                                                                                                                                            | NA                                                                                                                                           | 2017-02-18 23:29:03                                                                                                                          | FALSE                                                                                                                                        | NA                                                                                                                                           | 833096018652696578                                                                                                                           | NA                                                                                                                                           | <a href=\"http://twitter.com\" rel=\"nofollow\">Twitter Web Client</a>                                                                           | dallas_bigdata                                                                                                                               | 234                                                                                                                                          |  TRUE                                                                                                                                        | FALSE                                                                                                                                        | NA                                                                                                                                           | NA                                                                                                                                           | \n",
       "| RT @KirkDBorne: How to Install #Microsoft R Server for Windows: https://t.co/1VPRKYFL9r #Rstats #BigData #MachineLearning #DataScience http… | FALSE                                                                                                                                        | 0                                                                                                                                            | NA                                                                                                                                           | 2017-02-18 23:28:47                                                                                                                          | FALSE                                                                                                                                        | NA                                                                                                                                           | 833095948700106753                                                                                                                           | NA                                                                                                                                           | <a href=\"http://twitter.com\" rel=\"nofollow\">Twitter Web Client</a>                                                                           | dallas_bigdata                                                                                                                               |  14                                                                                                                                          |  TRUE                                                                                                                                        | FALSE                                                                                                                                        | NA                                                                                                                                           | NA                                                                                                                                           | \n",
       "| @BiswapriyaMisra thanks. Need to dig deeper into this #rstats packages. PS: if I have time :). Have a pleasant Sunday.                       | FALSE                                                                                                                                        | 0                                                                                                                                            | BiswapriyaMisra                                                                                                                              | 2017-02-18 23:18:47                                                                                                                          | FALSE                                                                                                                                        | NA                                                                                                                                           | 833093432444805120                                                                                                                           | 751885664283602944                                                                                                                           | <a href=\"http://twitter.com/download/iphone\" rel=\"nofollow\">Twitter for iPhone</a>                                                           | dasaptaerwin                                                                                                                                 |   0                                                                                                                                          | FALSE                                                                                                                                        | FALSE                                                                                                                                        | NA                                                                                                                                           | NA                                                                                                                                           | \n",
       "| RT @hadleywickham: #rstats  for data science will be shipping Jan 5 https://t.co/BMFYacy7x5 ! (Or read for free at https://t.co/48IKOWCtSc)  | FALSE                                                                                                                                        | 0                                                                                                                                            | NA                                                                                                                                           | 2017-02-18 23:11:19                                                                                                                          | FALSE                                                                                                                                        | NA                                                                                                                                           | 833091554172510208                                                                                                                           | NA                                                                                                                                           | <a href=\"http://twitter.com\" rel=\"nofollow\">Twitter Web Client</a>                                                                           | shoetree                                                                                                                                     | 330                                                                                                                                          |  TRUE                                                                                                                                        | FALSE                                                                                                                                        | NA                                                                                                                                           | NA                                                                                                                                           | \n",
       "| RT @Rbloggers: Hello R world post https://t.co/QhDRHhHJ20 #rstats #DataScience                                                               | FALSE                                                                                                                                        | 0                                                                                                                                            | NA                                                                                                                                           | 2017-02-18 23:11:18                                                                                                                          | FALSE                                                                                                                                        | NA                                                                                                                                           | 833091549005303809                                                                                                                           | NA                                                                                                                                           | <a href=\"http://twitter.com/download/iphone\" rel=\"nofollow\">Twitter for iPhone</a>                                                           | ErikM727                                                                                                                                     |   6                                                                                                                                          |  TRUE                                                                                                                                        | FALSE                                                                                                                                        | NA                                                                                                                                           | NA                                                                                                                                           | \n",
       "| RT @KirkDBorne: How to Install #Microsoft R Server for Windows: https://t.co/1VPRKYFL9r #Rstats #BigData #MachineLearning #DataScience http… | FALSE                                                                                                                                        | 0                                                                                                                                            | NA                                                                                                                                           | 2017-02-18 23:09:51                                                                                                                          | FALSE                                                                                                                                        | NA                                                                                                                                           | 833091184130191366                                                                                                                           | NA                                                                                                                                           | <a href=\"http://twitter.com\" rel=\"nofollow\">Twitter Web Client</a>                                                                           | HoracioCastello                                                                                                                              |  14                                                                                                                                          |  TRUE                                                                                                                                        | FALSE                                                                                                                                        | NA                                                                                                                                           | NA                                                                                                                                           | \n",
       "\n",
       "\n"
      ],
      "text/plain": [
       "  text                                                                                                                                        \n",
       "1 RT @KirkDBorne: One-page R Survival Guides for #DataScientists: https://t.co/ASfPzMkMOC #abdsc #Rstats #DataScience #BigData #MachineLearni…\n",
       "2 RT @KirkDBorne: How to Install #Microsoft R Server for Windows: https://t.co/1VPRKYFL9r #Rstats #BigData #MachineLearning #DataScience http…\n",
       "3 @BiswapriyaMisra thanks. Need to dig deeper into this #rstats packages. PS: if I have time :). Have a pleasant Sunday.                      \n",
       "4 RT @hadleywickham: #rstats  for data science will be shipping Jan 5 https://t.co/BMFYacy7x5 ! (Or read for free at https://t.co/48IKOWCtSc) \n",
       "5 RT @Rbloggers: Hello R world post https://t.co/QhDRHhHJ20 #rstats #DataScience                                                              \n",
       "6 RT @KirkDBorne: How to Install #Microsoft R Server for Windows: https://t.co/1VPRKYFL9r #Rstats #BigData #MachineLearning #DataScience http…\n",
       "  favorited favoriteCount replyToSN       created             truncated\n",
       "1 FALSE     0             NA              2017-02-18 23:29:03 FALSE    \n",
       "2 FALSE     0             NA              2017-02-18 23:28:47 FALSE    \n",
       "3 FALSE     0             BiswapriyaMisra 2017-02-18 23:18:47 FALSE    \n",
       "4 FALSE     0             NA              2017-02-18 23:11:19 FALSE    \n",
       "5 FALSE     0             NA              2017-02-18 23:11:18 FALSE    \n",
       "6 FALSE     0             NA              2017-02-18 23:09:51 FALSE    \n",
       "  replyToSID id                 replyToUID        \n",
       "1 NA         833096018652696578 NA                \n",
       "2 NA         833095948700106753 NA                \n",
       "3 NA         833093432444805120 751885664283602944\n",
       "4 NA         833091554172510208 NA                \n",
       "5 NA         833091549005303809 NA                \n",
       "6 NA         833091184130191366 NA                \n",
       "  statusSource                                                                      \n",
       "1 <a href=\"http://twitter.com\" rel=\"nofollow\">Twitter Web Client</a>                \n",
       "2 <a href=\"http://twitter.com\" rel=\"nofollow\">Twitter Web Client</a>                \n",
       "3 <a href=\"http://twitter.com/download/iphone\" rel=\"nofollow\">Twitter for iPhone</a>\n",
       "4 <a href=\"http://twitter.com\" rel=\"nofollow\">Twitter Web Client</a>                \n",
       "5 <a href=\"http://twitter.com/download/iphone\" rel=\"nofollow\">Twitter for iPhone</a>\n",
       "6 <a href=\"http://twitter.com\" rel=\"nofollow\">Twitter Web Client</a>                \n",
       "  screenName      retweetCount isRetweet retweeted longitude latitude\n",
       "1 dallas_bigdata  234           TRUE     FALSE     NA        NA      \n",
       "2 dallas_bigdata   14           TRUE     FALSE     NA        NA      \n",
       "3 dasaptaerwin      0          FALSE     FALSE     NA        NA      \n",
       "4 shoetree        330           TRUE     FALSE     NA        NA      \n",
       "5 ErikM727          6           TRUE     FALSE     NA        NA      \n",
       "6 HoracioCastello  14           TRUE     FALSE     NA        NA      "
      ]
     },
     "metadata": {},
     "output_type": "display_data"
    }
   ],
   "source": [
    "tweets_df <- twListToDF(tweets_eg)\n",
    "head(tweets_df)"
   ]
  },
  {
   "cell_type": "markdown",
   "metadata": {},
   "source": [
    "Stoing and retrieving tweets from the database"
   ]
  },
  {
   "cell_type": "code",
   "execution_count": 29,
   "metadata": {
    "collapsed": false
   },
   "outputs": [
    {
     "name": "stderr",
     "output_type": "stream",
     "text": [
      "Loading required namespace: RSQLite\n"
     ]
    },
    {
     "data": {
      "text/html": [
       "TRUE"
      ],
      "text/latex": [
       "TRUE"
      ],
      "text/markdown": [
       "TRUE"
      ],
      "text/plain": [
       "[1] TRUE"
      ]
     },
     "metadata": {},
     "output_type": "display_data"
    }
   ],
   "source": [
    "sdb_file = tempfile()\n",
    "register_sqlite_backend(sdb_file)\n",
    "store_tweets_db(tweets_eg)"
   ]
  },
  {
   "cell_type": "markdown",
   "metadata": {},
   "source": [
    "Getting the information on the user timeline"
   ]
  },
  {
   "cell_type": "code",
   "execution_count": null,
   "metadata": {
    "collapsed": true
   },
   "outputs": [],
   "source": [
    "jon_tweets <- userTimeline('jonmcalder')\n",
    "jon_tweets[1:5]\n",
    "length(jon_tweets)"
   ]
  },
  {
   "cell_type": "markdown",
   "metadata": {},
   "source": [
    "Getting the available trends place using availableTrendLocations() and the closest place trends using closestTrendLocations(). Both return woeid which can be used to output trending hashtags"
   ]
  },
  {
   "cell_type": "code",
   "execution_count": 33,
   "metadata": {
    "collapsed": false,
    "scrolled": true
   },
   "outputs": [
    {
     "data": {
      "text/html": [
       "<table>\n",
       "<thead><tr><th scope=col>name</th><th scope=col>country</th><th scope=col>woeid</th></tr></thead>\n",
       "<tbody>\n",
       "\t<tr><td>Worldwide</td><td>         </td><td>1        </td></tr>\n",
       "\t<tr><td>Winnipeg </td><td>Canada   </td><td>2972     </td></tr>\n",
       "\t<tr><td>Ottawa   </td><td>Canada   </td><td>3369     </td></tr>\n",
       "\t<tr><td>Quebec   </td><td>Canada   </td><td>3444     </td></tr>\n",
       "\t<tr><td>Montreal </td><td>Canada   </td><td>3534     </td></tr>\n",
       "\t<tr><td>Toronto  </td><td>Canada   </td><td>4118     </td></tr>\n",
       "</tbody>\n",
       "</table>\n"
      ],
      "text/latex": [
       "\\begin{tabular}{r|lll}\n",
       " name & country & woeid\\\\\n",
       "\\hline\n",
       "\t Worldwide &           & 1        \\\\\n",
       "\t Winnipeg  & Canada    & 2972     \\\\\n",
       "\t Ottawa    & Canada    & 3369     \\\\\n",
       "\t Quebec    & Canada    & 3444     \\\\\n",
       "\t Montreal  & Canada    & 3534     \\\\\n",
       "\t Toronto   & Canada    & 4118     \\\\\n",
       "\\end{tabular}\n"
      ],
      "text/markdown": [
       "\n",
       "name | country | woeid | \n",
       "|---|---|---|---|---|---|\n",
       "| Worldwide |           | 1         | \n",
       "| Winnipeg  | Canada    | 2972      | \n",
       "| Ottawa    | Canada    | 3369      | \n",
       "| Quebec    | Canada    | 3444      | \n",
       "| Montreal  | Canada    | 3534      | \n",
       "| Toronto   | Canada    | 4118      | \n",
       "\n",
       "\n"
      ],
      "text/plain": [
       "  name      country woeid\n",
       "1 Worldwide         1    \n",
       "2 Winnipeg  Canada  2972 \n",
       "3 Ottawa    Canada  3369 \n",
       "4 Quebec    Canada  3444 \n",
       "5 Montreal  Canada  3534 \n",
       "6 Toronto   Canada  4118 "
      ]
     },
     "metadata": {},
     "output_type": "display_data"
    }
   ],
   "source": [
    "trends = availableTrendLocations()\n",
    "head(trends)"
   ]
  },
  {
   "cell_type": "code",
   "execution_count": 35,
   "metadata": {
    "collapsed": false
   },
   "outputs": [
    {
     "data": {
      "text/html": [
       "<table>\n",
       "<thead><tr><th scope=col>name</th><th scope=col>country</th><th scope=col>woeid</th></tr></thead>\n",
       "<tbody>\n",
       "\t<tr><td>Quebec</td><td>Canada</td><td>3444  </td></tr>\n",
       "</tbody>\n",
       "</table>\n"
      ],
      "text/latex": [
       "\\begin{tabular}{r|lll}\n",
       " name & country & woeid\\\\\n",
       "\\hline\n",
       "\t Quebec & Canada & 3444  \\\\\n",
       "\\end{tabular}\n"
      ],
      "text/markdown": [
       "\n",
       "name | country | woeid | \n",
       "|---|\n",
       "| Quebec | Canada | 3444   | \n",
       "\n",
       "\n"
      ],
      "text/plain": [
       "  name   country woeid\n",
       "1 Quebec Canada  3444 "
      ]
     },
     "metadata": {},
     "output_type": "display_data"
    }
   ],
   "source": [
    "trends_closest = closestTrendLocations(48.3, -71.1)\n",
    "head(trends_closest)"
   ]
  },
  {
   "cell_type": "code",
   "execution_count": 36,
   "metadata": {
    "collapsed": false
   },
   "outputs": [
    {
     "data": {
      "text/html": [
       "<table>\n",
       "<thead><tr><th scope=col>name</th><th scope=col>url</th><th scope=col>query</th><th scope=col>woeid</th></tr></thead>\n",
       "<tbody>\n",
       "\t<tr><td>#TrumpRally                                        </td><td>http://twitter.com/search?q=%23TrumpRally          </td><td>%23TrumpRally                                      </td><td>3444                                               </td></tr>\n",
       "\t<tr><td>2018 Memorial Cup                                  </td><td>http://twitter.com/search?q=%222018+Memorial+Cup%22</td><td>%222018+Memorial+Cup%22                            </td><td>3444                                               </td></tr>\n",
       "\t<tr><td>#NationalDrinkWineDay                              </td><td>http://twitter.com/search?q=%23NationalDrinkWineDay</td><td>%23NationalDrinkWineDay                            </td><td>3444                                               </td></tr>\n",
       "\t<tr><td>#AaronsNewVideo                                    </td><td>http://twitter.com/search?q=%23AaronsNewVideo      </td><td>%23AaronsNewVideo                                  </td><td>3444                                               </td></tr>\n",
       "\t<tr><td>Laine                                              </td><td>http://twitter.com/search?q=Laine                  </td><td>Laine                                              </td><td>3444                                               </td></tr>\n",
       "\t<tr><td>#MissBiopharma17                                   </td><td>http://twitter.com/search?q=%23MissBiopharma17     </td><td>%23MissBiopharma17                                 </td><td>3444                                               </td></tr>\n",
       "</tbody>\n",
       "</table>\n"
      ],
      "text/latex": [
       "\\begin{tabular}{r|llll}\n",
       " name & url & query & woeid\\\\\n",
       "\\hline\n",
       "\t \\#TrumpRally                                         & http://twitter.com/search?q=\\%23TrumpRally           & \\%23TrumpRally                                       & 3444                                                 \\\\\n",
       "\t 2018 Memorial Cup                                       & http://twitter.com/search?q=\\%222018+Memorial+Cup\\%22 & \\%222018+Memorial+Cup\\%22                             & 3444                                                   \\\\\n",
       "\t \\#NationalDrinkWineDay                               & http://twitter.com/search?q=\\%23NationalDrinkWineDay & \\%23NationalDrinkWineDay                             & 3444                                                 \\\\\n",
       "\t \\#AaronsNewVideo                                     & http://twitter.com/search?q=\\%23AaronsNewVideo       & \\%23AaronsNewVideo                                   & 3444                                                 \\\\\n",
       "\t Laine                                               & http://twitter.com/search?q=Laine                   & Laine                                               & 3444                                               \\\\\n",
       "\t \\#MissBiopharma17                                    & http://twitter.com/search?q=\\%23MissBiopharma17      & \\%23MissBiopharma17                                  & 3444                                                 \\\\\n",
       "\\end{tabular}\n"
      ],
      "text/markdown": [
       "\n",
       "name | url | query | woeid | \n",
       "|---|---|---|---|---|---|\n",
       "| #TrumpRally                                         | http://twitter.com/search?q=%23TrumpRally           | %23TrumpRally                                       | 3444                                                | \n",
       "| 2018 Memorial Cup                                   | http://twitter.com/search?q=%222018+Memorial+Cup%22 | %222018+Memorial+Cup%22                             | 3444                                                | \n",
       "| #NationalDrinkWineDay                               | http://twitter.com/search?q=%23NationalDrinkWineDay | %23NationalDrinkWineDay                             | 3444                                                | \n",
       "| #AaronsNewVideo                                     | http://twitter.com/search?q=%23AaronsNewVideo       | %23AaronsNewVideo                                   | 3444                                                | \n",
       "| Laine                                               | http://twitter.com/search?q=Laine                   | Laine                                               | 3444                                                | \n",
       "| #MissBiopharma17                                    | http://twitter.com/search?q=%23MissBiopharma17      | %23MissBiopharma17                                  | 3444                                                | \n",
       "\n",
       "\n"
      ],
      "text/plain": [
       "  name                  url                                                \n",
       "1 #TrumpRally           http://twitter.com/search?q=%23TrumpRally          \n",
       "2 2018 Memorial Cup     http://twitter.com/search?q=%222018+Memorial+Cup%22\n",
       "3 #NationalDrinkWineDay http://twitter.com/search?q=%23NationalDrinkWineDay\n",
       "4 #AaronsNewVideo       http://twitter.com/search?q=%23AaronsNewVideo      \n",
       "5 Laine                 http://twitter.com/search?q=Laine                  \n",
       "6 #MissBiopharma17      http://twitter.com/search?q=%23MissBiopharma17     \n",
       "  query                   woeid\n",
       "1 %23TrumpRally           3444 \n",
       "2 %222018+Memorial+Cup%22 3444 \n",
       "3 %23NationalDrinkWineDay 3444 \n",
       "4 %23AaronsNewVideo       3444 \n",
       "5 Laine                   3444 \n",
       "6 %23MissBiopharma17      3444 "
      ]
     },
     "metadata": {},
     "output_type": "display_data"
    }
   ],
   "source": [
    "get_trends = getTrends(3444)\n",
    "head(get_trends)"
   ]
  },
  {
   "cell_type": "code",
   "execution_count": null,
   "metadata": {
    "collapsed": true
   },
   "outputs": [],
   "source": []
  }
 ],
 "metadata": {
  "kernelspec": {
   "display_name": "R",
   "language": "R",
   "name": "ir"
  },
  "language_info": {
   "codemirror_mode": "r",
   "file_extension": ".r",
   "mimetype": "text/x-r-source",
   "name": "R",
   "pygments_lexer": "r",
   "version": "3.3.2"
  }
 },
 "nbformat": 4,
 "nbformat_minor": 2
}
